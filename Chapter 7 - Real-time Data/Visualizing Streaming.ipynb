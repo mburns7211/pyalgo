{
 "cells": [
  {
   "cell_type": "code",
   "execution_count": 1,
   "id": "faddfc2a-107f-41b0-9cce-590d3d4f9a6d",
   "metadata": {},
   "outputs": [],
   "source": [
    "import zmq\n",
    "from datetime import datetime\n",
    "import plotly.graph_objects as go"
   ]
  },
  {
   "cell_type": "code",
   "execution_count": 2,
   "id": "d2a2748a-7d8a-42a2-800e-8526b5ed14e2",
   "metadata": {},
   "outputs": [],
   "source": [
    "symbol = 'SYMBOL'"
   ]
  },
  {
   "cell_type": "code",
   "execution_count": 3,
   "id": "93731b5f-ac25-481d-b620-9e0354c3a32d",
   "metadata": {},
   "outputs": [
    {
     "data": {
      "application/vnd.jupyter.widget-view+json": {
       "model_id": "f06988abb653451d8e6d820c3d704db2",
       "version_major": 2,
       "version_minor": 0
      },
      "text/plain": [
       "FigureWidget({\n",
       "    'data': [{'type': 'scatter', 'uid': '25025e4c-fd89-4b8a-a640-d4eab34047d6'}], 'layout': {'template': '...'}\n",
       "})"
      ]
     },
     "execution_count": 3,
     "metadata": {},
     "output_type": "execute_result"
    }
   ],
   "source": [
    "fig = go.FigureWidget()\n",
    "fig.add_scatter()\n",
    "fig"
   ]
  },
  {
   "cell_type": "code",
   "execution_count": 5,
   "id": "269c0d85-ffaf-45c3-be11-fa4d3ac6291c",
   "metadata": {},
   "outputs": [],
   "source": [
    "context = zmq.Context()"
   ]
  },
  {
   "cell_type": "code",
   "execution_count": 6,
   "id": "ba6b91bc-2b2f-48bc-90ae-9183620949ca",
   "metadata": {},
   "outputs": [],
   "source": [
    "socket = context.socket(zmq.SUB)"
   ]
  },
  {
   "cell_type": "code",
   "execution_count": 7,
   "id": "869c43d0-7514-43b1-acf9-e913611b71de",
   "metadata": {},
   "outputs": [
    {
     "data": {
      "text/plain": [
       "<SocketContext(connect='tcp://0.0.0.0:5555')>"
      ]
     },
     "execution_count": 7,
     "metadata": {},
     "output_type": "execute_result"
    }
   ],
   "source": [
    "socket.connect('tcp://0.0.0.0:5555')"
   ]
  },
  {
   "cell_type": "code",
   "execution_count": 8,
   "id": "f7f8dc99-9e69-4dd2-baf4-d75cc7f0ad2e",
   "metadata": {},
   "outputs": [],
   "source": [
    "socket.setsockopt_string(zmq.SUBSCRIBE, 'SYMBOL')"
   ]
  },
  {
   "cell_type": "code",
   "execution_count": 9,
   "id": "a396475d-453b-40ee-b9df-91b1b6ffb29f",
   "metadata": {},
   "outputs": [],
   "source": [
    "times = list()\n",
    "prices = list()"
   ]
  },
  {
   "cell_type": "markdown",
   "id": "2512cf3f-f677-4422-a9e4-f72c31020590",
   "metadata": {},
   "source": [
    "# RUN python TickServer.py in background"
   ]
  },
  {
   "cell_type": "code",
   "execution_count": 13,
   "id": "6429728b-9cd9-4743-95ff-6ec3235a8fde",
   "metadata": {},
   "outputs": [],
   "source": [
    "for _ in range(50):\n",
    "    msg = socket.recv_string()\n",
    "    t = datetime.now()\n",
    "    times.append(t)\n",
    "    _, price = msg.split()\n",
    "    prices.append(float(price))\n",
    "    fig.data[0].x = times\n",
    "    fig.data[0].y = prices"
   ]
  },
  {
   "cell_type": "markdown",
   "id": "b8df8007-304c-4046-9830-ac4c0ce7033d",
   "metadata": {},
   "source": [
    "# Above graph updates in real time!"
   ]
  }
 ],
 "metadata": {
  "kernelspec": {
   "display_name": "Python 3 (ipykernel)",
   "language": "python",
   "name": "python3"
  },
  "language_info": {
   "codemirror_mode": {
    "name": "ipython",
    "version": 3
   },
   "file_extension": ".py",
   "mimetype": "text/x-python",
   "name": "python",
   "nbconvert_exporter": "python",
   "pygments_lexer": "ipython3",
   "version": "3.13.2"
  }
 },
 "nbformat": 4,
 "nbformat_minor": 5
}
