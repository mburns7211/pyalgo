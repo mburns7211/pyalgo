{
 "cells": [
  {
   "cell_type": "markdown",
   "id": "393f080a-4114-4a5c-afe2-2e0b3de7877d",
   "metadata": {},
   "source": [
    "## To Simulating price movementa and live ticker feed using ZeroMQ\n",
    "In one shell run\n",
    "```\n",
    "python TickServer.py\n",
    "```\n",
    "In another shell run\n",
    "```\n",
    "python TickClient.py\n",
    "```"
   ]
  },
  {
   "cell_type": "markdown",
   "id": "4669b8af-6ae0-40cf-b772-2da293329198",
   "metadata": {},
   "source": [
    "## To Simulating price movementa and live ticker feed using ZeroMQ\n",
    "## Then run a momentum strategy\n",
    "In one shell run\n",
    "```\n",
    "python TickServer.py\n",
    "```\n",
    "In another shell run\n",
    "```\n",
    "python OnlineAlgorithm.py\n",
    "```"
   ]
  },
  {
   "cell_type": "markdown",
   "id": "985ab4e1-8101-4632-9a9f-23c03643e21e",
   "metadata": {},
   "source": [
    "## To Simulating price movementa and live ticker feed using ZeroMQ\n",
    "## Then run a sma strategy\n",
    "In one shell run\n",
    "```\n",
    "python TickServer.py\n",
    "```\n",
    "In another shell run\n",
    "```\n",
    "python SMAOnline.py\n",
    "```"
   ]
  }
 ],
 "metadata": {
  "kernelspec": {
   "display_name": "Python 3 (ipykernel)",
   "language": "python",
   "name": "python3"
  },
  "language_info": {
   "codemirror_mode": {
    "name": "ipython",
    "version": 3
   },
   "file_extension": ".py",
   "mimetype": "text/x-python",
   "name": "python",
   "nbconvert_exporter": "python",
   "pygments_lexer": "ipython3",
   "version": "3.13.1"
  }
 },
 "nbformat": 4,
 "nbformat_minor": 5
}
