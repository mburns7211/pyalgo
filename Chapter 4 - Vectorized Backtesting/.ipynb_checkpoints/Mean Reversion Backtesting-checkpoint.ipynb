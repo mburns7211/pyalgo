{
 "cells": [
  {
   "cell_type": "markdown",
   "id": "043aa23f-2d3b-44be-bde1-c63001491be8",
   "metadata": {},
   "source": [
    "# Mean Reversion Backtesting"
   ]
  },
  {
   "cell_type": "code",
   "execution_count": null,
   "id": "61841c49-731b-44c5-a705-eb5306905c3f",
   "metadata": {},
   "outputs": [],
   "source": []
  }
 ],
 "metadata": {
  "kernelspec": {
   "display_name": "Python 3 (ipykernel)",
   "language": "python",
   "name": "python3"
  },
  "language_info": {
   "codemirror_mode": {
    "name": "ipython",
    "version": 3
   },
   "file_extension": ".py",
   "mimetype": "text/x-python",
   "name": "python",
   "nbconvert_exporter": "python",
   "pygments_lexer": "ipython3",
   "version": "3.11.11"
  }
 },
 "nbformat": 4,
 "nbformat_minor": 5
}
