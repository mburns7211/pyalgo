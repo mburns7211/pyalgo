{
 "cells": [
  {
   "cell_type": "code",
   "execution_count": 5,
   "id": "c57ebf06-490f-4af7-bd48-b38d2ed5cb5f",
   "metadata": {},
   "outputs": [
    {
     "name": "stdout",
     "output_type": "stream",
     "text": [
      "<class 'pandas.core.frame.DataFrame'>\n",
      "DatetimeIndex: 2515 entries, 2010-01-05 to 2019-12-31\n",
      "Data columns (total 2 columns):\n",
      " #   Column  Non-Null Count  Dtype  \n",
      "---  ------  --------------  -----  \n",
      " 0   price   2515 non-null   float64\n",
      " 1   return  2515 non-null   float64\n",
      "dtypes: float64(2)\n",
      "memory usage: 58.9 KB\n",
      "None\n",
      "             price    return\n",
      "Date                        \n",
      "2019-12-24  284.27  0.000950\n",
      "2019-12-26  289.91  0.019646\n",
      "2019-12-27  289.80 -0.000380\n",
      "2019-12-30  291.52  0.005918\n",
      "2019-12-31  293.65  0.007280\n"
     ]
    }
   ],
   "source": [
    "!python BacktestBase.py"
   ]
  },
  {
   "cell_type": "code",
   "execution_count": 6,
   "id": "e33f89d5-4d82-4fea-928a-969e8cd05264",
   "metadata": {},
   "outputs": [
    {
     "name": "stdout",
     "output_type": "stream",
     "text": [
      "\n",
      "\n",
      "Running SMA strategy | SMA1=42 & SMA2=252\n",
      "fixed costs 0.0 | proportional costs 0.0\n",
      "=======================================================\n",
      "Final balance   [$] 56204.95\n",
      "Net Performance [%] 462.05\n",
      "Trades Executed [#] 10\n",
      "=======================================================\n",
      "\n",
      "\n",
      "Running momentum strategy | 60 days\n",
      "fixed costs 0.0 | proportional costs 0.0\n",
      "=======================================================\n",
      "Final balance   [$] 82969.30\n",
      "Net Performance [%] 729.69\n",
      "Trades Executed [#] 122\n",
      "=======================================================\n",
      "\n",
      "\n",
      "Running mean reversion strategy | SMA=50 & thr=5\n",
      "fixed costs 0.0 | proportional costs 0.0\n",
      "=======================================================\n",
      "Final balance   [$] 11543.77\n",
      "Net Performance [%] 15.44\n",
      "Trades Executed [#] 41\n",
      "=======================================================\n",
      "\n",
      "\n",
      "Running SMA strategy | SMA1=42 & SMA2=252\n",
      "fixed costs 10.0 | proportional costs 0.01\n",
      "=======================================================\n",
      "Final balance   [$] 51959.62\n",
      "Net Performance [%] 419.60\n",
      "Trades Executed [#] 10\n",
      "=======================================================\n",
      "\n",
      "\n",
      "Running momentum strategy | 60 days\n",
      "fixed costs 10.0 | proportional costs 0.01\n",
      "=======================================================\n",
      "Final balance   [$] 22907.27\n",
      "Net Performance [%] 129.07\n",
      "Trades Executed [#] 122\n",
      "=======================================================\n",
      "\n",
      "\n",
      "Running mean reversion strategy | SMA=50 & thr=5\n",
      "fixed costs 10.0 | proportional costs 0.01\n",
      "=======================================================\n",
      "Final balance   [$] 7400.70\n",
      "Net Performance [%] -25.99\n",
      "Trades Executed [#] 41\n",
      "=======================================================\n"
     ]
    }
   ],
   "source": [
    "!python BacktestLongOnly.py"
   ]
  },
  {
   "cell_type": "code",
   "execution_count": 7,
   "id": "89bf3075-819a-47e3-8e9c-7faf7a5e17f5",
   "metadata": {},
   "outputs": [
    {
     "name": "stdout",
     "output_type": "stream",
     "text": [
      "\n",
      "\n",
      "Running SMA strategy | SMA1=42 & SMA2=252\n",
      "fixed costs 0.0 | proportional costs 0.0\n",
      "=======================================================\n",
      "Final balance   [$] 45631.83\n",
      "Net Performance [%] 356.32\n",
      "Trades Executed [#] 18\n",
      "=======================================================\n",
      "\n",
      "\n",
      "Running momentum strategy | 60 days\n",
      "fixed costs 0.0 | proportional costs 0.0\n",
      "=======================================================\n",
      "Final balance   [$] 69059.07\n",
      "Net Performance [%] 590.59\n",
      "Trades Executed [#] 242\n",
      "=======================================================\n",
      "\n",
      "\n",
      "Running mean reversion strategy | SMA=50 & thr=5\n",
      "fixed costs 0.0 | proportional costs 0.0\n",
      "=======================================================\n",
      "Final balance   [$] 5216.60\n",
      "Net Performance [%] -47.83\n",
      "Trades Executed [#] 102\n",
      "=======================================================\n",
      "\n",
      "\n",
      "Running SMA strategy | SMA1=42 & SMA2=252\n",
      "fixed costs 10.0 | proportional costs 0.01\n",
      "=======================================================\n",
      "Final balance   [$] 38369.65\n",
      "Net Performance [%] 283.70\n",
      "Trades Executed [#] 18\n",
      "=======================================================\n",
      "\n",
      "\n",
      "Running momentum strategy | 60 days\n",
      "fixed costs 10.0 | proportional costs 0.01\n",
      "=======================================================\n",
      "Final balance   [$] 4153.95\n",
      "Net Performance [%] -58.46\n",
      "Trades Executed [#] 242\n",
      "=======================================================\n",
      "\n",
      "\n",
      "Running mean reversion strategy | SMA=50 & thr=5\n",
      "fixed costs 10.0 | proportional costs 0.01\n",
      "=======================================================\n",
      "Final balance   [$] -5893.69\n",
      "Net Performance [%] -158.94\n",
      "Trades Executed [#] 102\n",
      "=======================================================\n"
     ]
    }
   ],
   "source": [
    "!python BacktestLongShort.py"
   ]
  },
  {
   "cell_type": "code",
   "execution_count": null,
   "id": "832f348c-122a-457b-a00e-be7ff8c91958",
   "metadata": {},
   "outputs": [],
   "source": []
  }
 ],
 "metadata": {
  "kernelspec": {
   "display_name": "Python 3 (ipykernel)",
   "language": "python",
   "name": "python3"
  },
  "language_info": {
   "codemirror_mode": {
    "name": "ipython",
    "version": 3
   },
   "file_extension": ".py",
   "mimetype": "text/x-python",
   "name": "python",
   "nbconvert_exporter": "python",
   "pygments_lexer": "ipython3",
   "version": "3.13.2"
  }
 },
 "nbformat": 4,
 "nbformat_minor": 5
}
