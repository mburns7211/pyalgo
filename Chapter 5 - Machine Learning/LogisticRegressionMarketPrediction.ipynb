{
 "cells": [
  {
   "cell_type": "code",
   "execution_count": 2,
   "id": "6f354100-2d25-4a8d-a018-b1dfd7234ba3",
   "metadata": {},
   "outputs": [],
   "source": [
    "import pandas as pd"
   ]
  },
  {
   "cell_type": "code",
   "execution_count": 3,
   "id": "da631850-23a0-4cbc-b990-74ec843ec301",
   "metadata": {},
   "outputs": [],
   "source": [
    "symbol = 'GLD'"
   ]
  },
  {
   "cell_type": "code",
   "execution_count": 7,
   "id": "1920f718-ada3-468a-a4fe-22ffa3f47c21",
   "metadata": {},
   "outputs": [],
   "source": [
    "raw = pd.read_csv('http://hilpisch.com/pyalgo_eikon_eod_data.csv', index_col=0, parse_dates=True).dropna()"
   ]
  },
  {
   "cell_type": "code",
   "execution_count": 9,
   "id": "56f395ce-d182-49dd-b629-b64a4b062474",
   "metadata": {},
   "outputs": [],
   "source": [
    "data = pd.DataFrame(raw[symbol])"
   ]
  },
  {
   "cell_type": "code",
   "execution_count": null,
   "id": "11e1d734-a3f8-4fd3-8ae2-36a876f4c2f1",
   "metadata": {},
   "outputs": [],
   "source": []
  }
 ],
 "metadata": {
  "kernelspec": {
   "display_name": "Python 3 (ipykernel)",
   "language": "python",
   "name": "python3"
  },
  "language_info": {
   "codemirror_mode": {
    "name": "ipython",
    "version": 3
   },
   "file_extension": ".py",
   "mimetype": "text/x-python",
   "name": "python",
   "nbconvert_exporter": "python",
   "pygments_lexer": "ipython3",
   "version": "3.11.11"
  }
 },
 "nbformat": 4,
 "nbformat_minor": 5
}
